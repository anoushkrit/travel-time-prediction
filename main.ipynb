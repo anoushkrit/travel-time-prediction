{
 "metadata": {
  "language_info": {
   "codemirror_mode": {
    "name": "ipython",
    "version": 3
   },
   "file_extension": ".py",
   "mimetype": "text/x-python",
   "name": "python",
   "nbconvert_exporter": "python",
   "pygments_lexer": "ipython3",
   "version": "3.8.3-final"
  },
  "orig_nbformat": 2,
  "kernelspec": {
   "name": "python3",
   "display_name": "Python 3",
   "language": "python"
  }
 },
 "nbformat": 4,
 "nbformat_minor": 2,
 "cells": [
  {
   "source": [
    "# Travel Time Estimation\n",
    "\n",
    "## ETA (Estimated Time of Arrival)\n",
    "\n",
    "## ETD (Estimated Time of Departure)"
   ],
   "cell_type": "markdown",
   "metadata": {}
  },
  {
   "source": [
    "## 1. Importing libraries"
   ],
   "cell_type": "markdown",
   "metadata": {}
  },
  {
   "cell_type": "code",
   "execution_count": 1,
   "metadata": {},
   "outputs": [],
   "source": [
    "## Created on 7 Feb, 2021 08:23 PM IST \n",
    "## For IXIGO Evaluation\n",
    "\n",
    "import pandas as pd\n",
    "import matplotlib.pyplot as plt\n",
    "%matplotlib inline\n",
    "\n",
    "import plotly.express as px\n",
    "import datetime\n",
    "import seaborn as sns\n",
    "import numpy as np\n",
    "import math\n",
    "from time import strftime\n",
    "from sklearn.model_selection import GridSearchCV\n",
    "from sklearn.preprocessing import LabelEncoder\n",
    "from sklearn.tree import DecisionTreeRegressor\n",
    "from sklearn.ensemble import RandomForestRegressor\n",
    "from sklearn.model_selection import train_test_split\n",
    "from sklearn.metrics import mean_squared_error"
   ]
  },
  {
   "source": [
    "## 2. Load Data"
   ],
   "cell_type": "markdown",
   "metadata": {}
  },
  {
   "cell_type": "code",
   "execution_count": 2,
   "metadata": {},
   "outputs": [],
   "source": [
    "train = pd.read_csv(\"train.csv\")\n",
    "test = pd.read_csv(\"test.csv\")"
   ]
  },
  {
   "source": [
    "## 3. Basic Info on Data"
   ],
   "cell_type": "markdown",
   "metadata": {}
  },
  {
   "cell_type": "code",
   "execution_count": 3,
   "metadata": {},
   "outputs": [
    {
     "output_type": "execute_result",
     "data": {
      "text/plain": [
       "      runDate stations  trainCode  trainStationId     scheduledArrival  \\\n",
       "0  2020-01-01      FZR      12138         2657812                  NaN   \n",
       "1  2020-01-01      FDK      12138         2659393  2020-01-01 22:05:00   \n",
       "2  2020-01-01      KKP      12138         2658108  2020-01-01 22:23:00   \n",
       "3  2020-01-01     GJUT      12138         2734206  2020-01-01 22:38:00   \n",
       "4  2020-01-01      GNA      12138         2742572  2020-01-01 22:54:00   \n",
       "\n",
       "    scheduledDeparture        actualArrival      actualDeparture  distance  \\\n",
       "0  2020-01-01 21:40:00  2020-01-01 00:00:00  2020-01-01 21:40:00         0   \n",
       "1  2020-01-01 22:07:00  2020-01-01 22:16:00  2020-01-01 22:18:00        32   \n",
       "2  2020-01-01 22:25:00  2020-01-01 22:37:00  2020-01-01 22:38:00        45   \n",
       "3  2020-01-01 22:40:00  2020-01-01 22:56:00  2020-01-01 22:57:00        61   \n",
       "4  2020-01-01 22:56:00  2020-01-01 23:14:00  2020-01-01 23:15:00        76   \n",
       "\n",
       "   dayCount  ArrivalDelay  DepartureDelay  \n",
       "0         0             0               0  \n",
       "1         0            11              11  \n",
       "2         0            14              13  \n",
       "3         0            18              17  \n",
       "4         0            20              19  "
      ],
      "text/html": "<div>\n<style scoped>\n    .dataframe tbody tr th:only-of-type {\n        vertical-align: middle;\n    }\n\n    .dataframe tbody tr th {\n        vertical-align: top;\n    }\n\n    .dataframe thead th {\n        text-align: right;\n    }\n</style>\n<table border=\"1\" class=\"dataframe\">\n  <thead>\n    <tr style=\"text-align: right;\">\n      <th></th>\n      <th>runDate</th>\n      <th>stations</th>\n      <th>trainCode</th>\n      <th>trainStationId</th>\n      <th>scheduledArrival</th>\n      <th>scheduledDeparture</th>\n      <th>actualArrival</th>\n      <th>actualDeparture</th>\n      <th>distance</th>\n      <th>dayCount</th>\n      <th>ArrivalDelay</th>\n      <th>DepartureDelay</th>\n    </tr>\n  </thead>\n  <tbody>\n    <tr>\n      <th>0</th>\n      <td>2020-01-01</td>\n      <td>FZR</td>\n      <td>12138</td>\n      <td>2657812</td>\n      <td>NaN</td>\n      <td>2020-01-01 21:40:00</td>\n      <td>2020-01-01 00:00:00</td>\n      <td>2020-01-01 21:40:00</td>\n      <td>0</td>\n      <td>0</td>\n      <td>0</td>\n      <td>0</td>\n    </tr>\n    <tr>\n      <th>1</th>\n      <td>2020-01-01</td>\n      <td>FDK</td>\n      <td>12138</td>\n      <td>2659393</td>\n      <td>2020-01-01 22:05:00</td>\n      <td>2020-01-01 22:07:00</td>\n      <td>2020-01-01 22:16:00</td>\n      <td>2020-01-01 22:18:00</td>\n      <td>32</td>\n      <td>0</td>\n      <td>11</td>\n      <td>11</td>\n    </tr>\n    <tr>\n      <th>2</th>\n      <td>2020-01-01</td>\n      <td>KKP</td>\n      <td>12138</td>\n      <td>2658108</td>\n      <td>2020-01-01 22:23:00</td>\n      <td>2020-01-01 22:25:00</td>\n      <td>2020-01-01 22:37:00</td>\n      <td>2020-01-01 22:38:00</td>\n      <td>45</td>\n      <td>0</td>\n      <td>14</td>\n      <td>13</td>\n    </tr>\n    <tr>\n      <th>3</th>\n      <td>2020-01-01</td>\n      <td>GJUT</td>\n      <td>12138</td>\n      <td>2734206</td>\n      <td>2020-01-01 22:38:00</td>\n      <td>2020-01-01 22:40:00</td>\n      <td>2020-01-01 22:56:00</td>\n      <td>2020-01-01 22:57:00</td>\n      <td>61</td>\n      <td>0</td>\n      <td>18</td>\n      <td>17</td>\n    </tr>\n    <tr>\n      <th>4</th>\n      <td>2020-01-01</td>\n      <td>GNA</td>\n      <td>12138</td>\n      <td>2742572</td>\n      <td>2020-01-01 22:54:00</td>\n      <td>2020-01-01 22:56:00</td>\n      <td>2020-01-01 23:14:00</td>\n      <td>2020-01-01 23:15:00</td>\n      <td>76</td>\n      <td>0</td>\n      <td>20</td>\n      <td>19</td>\n    </tr>\n  </tbody>\n</table>\n</div>"
     },
     "metadata": {},
     "execution_count": 3
    }
   ],
   "source": [
    "train.head()\n"
   ]
  },
  {
   "cell_type": "code",
   "execution_count": 4,
   "metadata": {},
   "outputs": [
    {
     "output_type": "execute_result",
     "data": {
      "text/plain": [
       "      runDate stations  trainId  trainCode  index  trainStationId  \\\n",
       "0  2020-02-20      FZR    11528      12138      1         2657812   \n",
       "1  2020-02-20      FDK    11528      12138      2         2659393   \n",
       "2  2020-02-20      KKP    11528      12138      3         2658108   \n",
       "3  2020-02-20     GJUT    11528      12138      4         2734206   \n",
       "4  2020-02-20      GNA    11528      12138      5         2742572   \n",
       "\n",
       "      scheduledArrival   scheduledDeparture  distance  dayCount       day  \n",
       "0                  NaN  2020-02-20 21:40:00         0         0  Thursday  \n",
       "1  2020-02-20 22:05:00  2020-02-20 22:07:00        32         0  Thursday  \n",
       "2  2020-02-20 22:23:00  2020-02-20 22:25:00        45         0  Thursday  \n",
       "3  2020-02-20 22:38:00  2020-02-20 22:40:00        61         0  Thursday  \n",
       "4  2020-02-20 22:54:00  2020-02-20 22:56:00        76         0  Thursday  "
      ],
      "text/html": "<div>\n<style scoped>\n    .dataframe tbody tr th:only-of-type {\n        vertical-align: middle;\n    }\n\n    .dataframe tbody tr th {\n        vertical-align: top;\n    }\n\n    .dataframe thead th {\n        text-align: right;\n    }\n</style>\n<table border=\"1\" class=\"dataframe\">\n  <thead>\n    <tr style=\"text-align: right;\">\n      <th></th>\n      <th>runDate</th>\n      <th>stations</th>\n      <th>trainId</th>\n      <th>trainCode</th>\n      <th>index</th>\n      <th>trainStationId</th>\n      <th>scheduledArrival</th>\n      <th>scheduledDeparture</th>\n      <th>distance</th>\n      <th>dayCount</th>\n      <th>day</th>\n    </tr>\n  </thead>\n  <tbody>\n    <tr>\n      <th>0</th>\n      <td>2020-02-20</td>\n      <td>FZR</td>\n      <td>11528</td>\n      <td>12138</td>\n      <td>1</td>\n      <td>2657812</td>\n      <td>NaN</td>\n      <td>2020-02-20 21:40:00</td>\n      <td>0</td>\n      <td>0</td>\n      <td>Thursday</td>\n    </tr>\n    <tr>\n      <th>1</th>\n      <td>2020-02-20</td>\n      <td>FDK</td>\n      <td>11528</td>\n      <td>12138</td>\n      <td>2</td>\n      <td>2659393</td>\n      <td>2020-02-20 22:05:00</td>\n      <td>2020-02-20 22:07:00</td>\n      <td>32</td>\n      <td>0</td>\n      <td>Thursday</td>\n    </tr>\n    <tr>\n      <th>2</th>\n      <td>2020-02-20</td>\n      <td>KKP</td>\n      <td>11528</td>\n      <td>12138</td>\n      <td>3</td>\n      <td>2658108</td>\n      <td>2020-02-20 22:23:00</td>\n      <td>2020-02-20 22:25:00</td>\n      <td>45</td>\n      <td>0</td>\n      <td>Thursday</td>\n    </tr>\n    <tr>\n      <th>3</th>\n      <td>2020-02-20</td>\n      <td>GJUT</td>\n      <td>11528</td>\n      <td>12138</td>\n      <td>4</td>\n      <td>2734206</td>\n      <td>2020-02-20 22:38:00</td>\n      <td>2020-02-20 22:40:00</td>\n      <td>61</td>\n      <td>0</td>\n      <td>Thursday</td>\n    </tr>\n    <tr>\n      <th>4</th>\n      <td>2020-02-20</td>\n      <td>GNA</td>\n      <td>11528</td>\n      <td>12138</td>\n      <td>5</td>\n      <td>2742572</td>\n      <td>2020-02-20 22:54:00</td>\n      <td>2020-02-20 22:56:00</td>\n      <td>76</td>\n      <td>0</td>\n      <td>Thursday</td>\n    </tr>\n  </tbody>\n</table>\n</div>"
     },
     "metadata": {},
     "execution_count": 4
    }
   ],
   "source": [
    "test.head()"
   ]
  },
  {
   "cell_type": "code",
   "execution_count": 5,
   "metadata": {},
   "outputs": [
    {
     "output_type": "stream",
     "name": "stdout",
     "text": [
      "(31875, 12) (695, 11)\n"
     ]
    }
   ],
   "source": [
    "print(train.shape, test.shape)"
   ]
  },
  {
   "source": [
    "### Missing Columns \n",
    "1. Train ID \n",
    "2. Index\n",
    "3. Actual Arrival \n",
    "4. Actual Departure \n",
    "5. Day \n",
    "6. Arrival Delay \n",
    "7. Departure Delay"
   ],
   "cell_type": "markdown",
   "metadata": {}
  },
  {
   "cell_type": "code",
   "execution_count": 6,
   "metadata": {},
   "outputs": [
    {
     "output_type": "stream",
     "name": "stdout",
     "text": [
      "<class 'pandas.core.frame.DataFrame'>\nRangeIndex: 31875 entries, 0 to 31874\nData columns (total 12 columns):\n #   Column              Non-Null Count  Dtype \n---  ------              --------------  ----- \n 0   runDate             31875 non-null  object\n 1   stations            31875 non-null  object\n 2   trainCode           31875 non-null  int64 \n 3   trainStationId      31875 non-null  int64 \n 4   scheduledArrival    31184 non-null  object\n 5   scheduledDeparture  31097 non-null  object\n 6   actualArrival       31875 non-null  object\n 7   actualDeparture     31775 non-null  object\n 8   distance            31875 non-null  int64 \n 9   dayCount            31875 non-null  int64 \n 10  ArrivalDelay        31875 non-null  int64 \n 11  DepartureDelay      31875 non-null  int64 \ndtypes: int64(6), object(6)\nmemory usage: 2.9+ MB\n"
     ]
    }
   ],
   "source": [
    "## Info\n",
    "\n",
    "train.info()"
   ]
  },
  {
   "source": [
    "## 4. Correcting inconsistencies in Data\n",
    "\n",
    "1. Checking percentage of NA values\n",
    "2. Dropping NA values \n",
    "3. Imputing NA values\n",
    "4. Renaming Column Names\n",
    "5. Converting Data Types to datetime64[ns] format.\n",
    "\n",
    "### 4.1 Imputing Data {2}\n",
    "We can easily remove all the NA values but after careful filter rows inspection, it has come to our notice that stations like \"CSMT\" would have no data point left. Hence we cannot simply drop the data we have to impute the data after checking the values from \"ArrivalDelay\" and \"DepartureDelay\". \n",
    "\n",
    "NA Values in \n",
    "SELECT NA values\n",
    "\n",
    "1. scheduledArrival = actualArrival - ArrivalDelay\n",
    "2. scheduledDeparture = actualDeparture - DepartureDelay\n",
    "\n",
    "Since, there are no NA values in actualArrival, we jump to actualDeparture\n",
    "\n",
    "3. actualDeparture = scheduledDeparture + DepartureDelay  ( In cases where scheduledDeparture is available)\n",
    "\n",
    "There are no cases of NA in ArrivalDelay, DepartureDelay."
   ],
   "cell_type": "markdown",
   "metadata": {}
  },
  {
   "cell_type": "code",
   "execution_count": 7,
   "metadata": {},
   "outputs": [
    {
     "output_type": "execute_result",
     "data": {
      "text/plain": [
       "                           runDate  stations  trainCode  trainStationId  \\\n",
       "% missing values in train      0.0       0.0        0.0             0.0   \n",
       "% missing values in test       0.0       0.0        0.0             0.0   \n",
       "\n",
       "                           scheduledArrival  scheduledDeparture  \\\n",
       "% missing values in train          2.167843            2.440784   \n",
       "% missing values in test           2.158273            2.446043   \n",
       "\n",
       "                           actualArrival  actualDeparture  distance  dayCount  \\\n",
       "% missing values in train            0.0         0.313725       0.0       0.0   \n",
       "% missing values in test             NaN              NaN       0.0       0.0   \n",
       "\n",
       "                           ArrivalDelay  DepartureDelay  trainId  index  day  \n",
       "% missing values in train           0.0             0.0      NaN    NaN  NaN  \n",
       "% missing values in test            NaN             NaN      0.0    0.0  0.0  "
      ],
      "text/html": "<div>\n<style scoped>\n    .dataframe tbody tr th:only-of-type {\n        vertical-align: middle;\n    }\n\n    .dataframe tbody tr th {\n        vertical-align: top;\n    }\n\n    .dataframe thead th {\n        text-align: right;\n    }\n</style>\n<table border=\"1\" class=\"dataframe\">\n  <thead>\n    <tr style=\"text-align: right;\">\n      <th></th>\n      <th>runDate</th>\n      <th>stations</th>\n      <th>trainCode</th>\n      <th>trainStationId</th>\n      <th>scheduledArrival</th>\n      <th>scheduledDeparture</th>\n      <th>actualArrival</th>\n      <th>actualDeparture</th>\n      <th>distance</th>\n      <th>dayCount</th>\n      <th>ArrivalDelay</th>\n      <th>DepartureDelay</th>\n      <th>trainId</th>\n      <th>index</th>\n      <th>day</th>\n    </tr>\n  </thead>\n  <tbody>\n    <tr>\n      <th>% missing values in train</th>\n      <td>0.0</td>\n      <td>0.0</td>\n      <td>0.0</td>\n      <td>0.0</td>\n      <td>2.167843</td>\n      <td>2.440784</td>\n      <td>0.0</td>\n      <td>0.313725</td>\n      <td>0.0</td>\n      <td>0.0</td>\n      <td>0.0</td>\n      <td>0.0</td>\n      <td>NaN</td>\n      <td>NaN</td>\n      <td>NaN</td>\n    </tr>\n    <tr>\n      <th>% missing values in test</th>\n      <td>0.0</td>\n      <td>0.0</td>\n      <td>0.0</td>\n      <td>0.0</td>\n      <td>2.158273</td>\n      <td>2.446043</td>\n      <td>NaN</td>\n      <td>NaN</td>\n      <td>0.0</td>\n      <td>0.0</td>\n      <td>NaN</td>\n      <td>NaN</td>\n      <td>0.0</td>\n      <td>0.0</td>\n      <td>0.0</td>\n    </tr>\n  </tbody>\n</table>\n</div>"
     },
     "metadata": {},
     "execution_count": 7
    }
   ],
   "source": [
    "## Percentage of missing values in each column\n",
    "\n",
    "missing_values = pd.DataFrame({c:(train[c].isna().sum()/len(train))*100 for c in train.columns},index=[\"% missing values in train\"])\n",
    "missing_values = missing_values.append(pd.DataFrame({c:(test[c].isna().sum()/len(test))*100 for c in test.columns},index=[\"% missing values in test\"]))\n",
    "missing_values"
   ]
  },
  {
   "cell_type": "code",
   "execution_count": 8,
   "metadata": {},
   "outputs": [
    {
     "output_type": "stream",
     "name": "stdout",
     "text": [
      "<class 'pandas.core.frame.DataFrame'>\nRangeIndex: 31875 entries, 0 to 31874\nData columns (total 12 columns):\n #   Column          Non-Null Count  Dtype         \n---  ------          --------------  -----         \n 0   runDate         31875 non-null  datetime64[ns]\n 1   stations        31875 non-null  object        \n 2   trainCode       31875 non-null  int64         \n 3   trainStationId  31875 non-null  int64         \n 4   sA              31184 non-null  datetime64[ns]\n 5   sD              31097 non-null  datetime64[ns]\n 6   aA              31875 non-null  datetime64[ns]\n 7   aD              31775 non-null  datetime64[ns]\n 8   distance        31875 non-null  int64         \n 9   dayCount        31875 non-null  int64         \n 10  ArrivalDelay    31875 non-null  int64         \n 11  DepartureDelay  31875 non-null  int64         \ndtypes: datetime64[ns](5), int64(6), object(1)\nmemory usage: 2.9+ MB\n"
     ]
    }
   ],
   "source": [
    "train = train.rename(columns = {'scheduledArrival': 'sA', 'scheduledDeparture': 'sD', 'actualArrival': 'aA', 'actualDeparture': 'aD'})\n",
    "test = test.rename(columns = {'scheduledArrival': 'sA', 'scheduledDeparture': 'sD'})\n",
    "\n",
    "\n",
    "to_dt = lambda x: pd.to_datetime(x)\n",
    "\n",
    "train['runDate'] = pd.to_datetime(train['runDate'])\n",
    "train['aA'] = pd.to_datetime(train['aA'])\n",
    "train['aD'] = pd.to_datetime(train['aD'])\n",
    "train['sA'] = pd.to_datetime(train['sA'])\n",
    "train['sD'] = pd.to_datetime(train['sD'])\n",
    "test['sA'] = pd.to_datetime(test['sA'])\n",
    "test['sD'] = pd.to_datetime(test['sD'])\n",
    "test['runDate'] = pd.to_datetime(test['runDate'])\n",
    "\n",
    "\n",
    "train.info()"
   ]
  },
  {
   "source": [
    "## 5. Data Wrangling, Feature Engineering and EDA\n",
    "\n",
    "1. Finding Unique Values in every Feature\n",
    "2. Dropping Redundant Columns\n",
    "3. Imputing NaN\n",
    "4. Dropping some feautures\n",
    "5. Breaking `datetime` to columns namely year, month, date, hours, minutes, secs"
   ],
   "cell_type": "markdown",
   "metadata": {}
  },
  {
   "cell_type": "code",
   "execution_count": 9,
   "metadata": {},
   "outputs": [
    {
     "output_type": "stream",
     "name": "stdout",
     "text": [
      " Unique Values in runDate =  (50,)  \n Unique Values in stations =  (349,)  \n Unique Values in trainCode =  (15,)  \n Unique Values in trainStationId =  (349,)  \n Unique Values in sA =  (24480,)  \n Unique Values in sD =  (23505,)  \n Unique Values in aA =  (25594,)  \n Unique Values in aD =  (25496,)  \n Unique Values in distance =  (573,)  \n Unique Values in dayCount =  (3,)  \n Unique Values in ArrivalDelay =  (501,)  \n Unique Values in DepartureDelay =  (455,)  \n"
     ]
    }
   ],
   "source": [
    "for i in range(len(train.columns)): \n",
    "    # print(\"Unique Values in \" + train.columns[i] +  \" = \"  + \" {} \".format(train[train.columns[i]].unique()))\n",
    "    print(\" Unique Values in \" + train.columns[i] +  \" = \"  + \" {}  \".format(train[train.columns[i]].unique().shape))"
   ]
  },
  {
   "source": [
    "After finding the unique values in all the features we get to know that the data is from the time span `runDate` 2020-01-01 to 2020-02-19 among 337  `stations` with 15 trains `trainCode` . Train Stations having their 337 `trainStationID` with Arrival and Departure frequency of 25051 in this time span. Trains take around `dayCount` from 0 to 2\n",
    "\n",
    "Since, `stations` are already coded with their `trainStationID` we can remove one of them "
   ],
   "cell_type": "markdown",
   "metadata": {}
  },
  {
   "cell_type": "code",
   "execution_count": 10,
   "metadata": {},
   "outputs": [
    {
     "output_type": "execute_result",
     "data": {
      "text/plain": [
       "         runDate  trainCode  trainStationId                  sA  \\\n",
       "0     2020-01-01      12138         2657812                 NaT   \n",
       "1     2020-01-01      12138         2659393 2020-01-01 22:05:00   \n",
       "2     2020-01-01      12138         2658108 2020-01-01 22:23:00   \n",
       "3     2020-01-01      12138         2734206 2020-01-01 22:38:00   \n",
       "4     2020-01-01      12138         2742572 2020-01-01 22:54:00   \n",
       "...          ...        ...             ...                 ...   \n",
       "31870 2020-02-19      12925         2658284 2020-02-20 17:19:00   \n",
       "31871 2020-02-19      12925         2657701 2020-02-20 17:37:00   \n",
       "31872 2020-02-19      12925         2657676 2020-02-20 17:53:00   \n",
       "31873 2020-02-19      12925         2658299 2020-02-20 18:30:00   \n",
       "31874 2020-02-19      12925         2657719 2020-02-20 19:20:00   \n",
       "\n",
       "                       sD                  aA                  aD  distance  \\\n",
       "0     2020-01-01 21:40:00 2020-01-01 00:00:00 2020-01-01 21:40:00         0   \n",
       "1     2020-01-01 22:07:00 2020-01-01 22:16:00 2020-01-01 22:18:00        32   \n",
       "2     2020-01-01 22:25:00 2020-01-01 22:37:00 2020-01-01 22:38:00        45   \n",
       "3     2020-01-01 22:40:00 2020-01-01 22:56:00 2020-01-01 22:57:00        61   \n",
       "4     2020-01-01 22:56:00 2020-01-01 23:14:00 2020-01-01 23:15:00        76   \n",
       "...                   ...                 ...                 ...       ...   \n",
       "31870 2020-02-20 17:21:00 2020-02-20 18:39:00 2020-02-20 18:41:00      1723   \n",
       "31871 2020-02-20 17:39:00 2020-02-20 19:04:00 2020-02-20 19:06:00      1739   \n",
       "31872 2020-02-20 17:58:00 2020-02-20 19:15:00 2020-02-20 19:30:00      1744   \n",
       "31873 2020-02-20 18:32:00 2020-02-20 19:58:00 2020-02-20 20:00:00      1780   \n",
       "31874                 NaT 2020-02-20 20:27:00 2020-02-20 00:00:00      1823   \n",
       "\n",
       "       dayCount  ArrivalDelay  DepartureDelay  \n",
       "0             0             0               0  \n",
       "1             0            11              11  \n",
       "2             0            14              13  \n",
       "3             0            18              17  \n",
       "4             0            20              19  \n",
       "...         ...           ...             ...  \n",
       "31870         1            80              80  \n",
       "31871         1            87              87  \n",
       "31872         1            82              92  \n",
       "31873         1            88              88  \n",
       "31874         1            67               0  \n",
       "\n",
       "[31875 rows x 11 columns]"
      ],
      "text/html": "<div>\n<style scoped>\n    .dataframe tbody tr th:only-of-type {\n        vertical-align: middle;\n    }\n\n    .dataframe tbody tr th {\n        vertical-align: top;\n    }\n\n    .dataframe thead th {\n        text-align: right;\n    }\n</style>\n<table border=\"1\" class=\"dataframe\">\n  <thead>\n    <tr style=\"text-align: right;\">\n      <th></th>\n      <th>runDate</th>\n      <th>trainCode</th>\n      <th>trainStationId</th>\n      <th>sA</th>\n      <th>sD</th>\n      <th>aA</th>\n      <th>aD</th>\n      <th>distance</th>\n      <th>dayCount</th>\n      <th>ArrivalDelay</th>\n      <th>DepartureDelay</th>\n    </tr>\n  </thead>\n  <tbody>\n    <tr>\n      <th>0</th>\n      <td>2020-01-01</td>\n      <td>12138</td>\n      <td>2657812</td>\n      <td>NaT</td>\n      <td>2020-01-01 21:40:00</td>\n      <td>2020-01-01 00:00:00</td>\n      <td>2020-01-01 21:40:00</td>\n      <td>0</td>\n      <td>0</td>\n      <td>0</td>\n      <td>0</td>\n    </tr>\n    <tr>\n      <th>1</th>\n      <td>2020-01-01</td>\n      <td>12138</td>\n      <td>2659393</td>\n      <td>2020-01-01 22:05:00</td>\n      <td>2020-01-01 22:07:00</td>\n      <td>2020-01-01 22:16:00</td>\n      <td>2020-01-01 22:18:00</td>\n      <td>32</td>\n      <td>0</td>\n      <td>11</td>\n      <td>11</td>\n    </tr>\n    <tr>\n      <th>2</th>\n      <td>2020-01-01</td>\n      <td>12138</td>\n      <td>2658108</td>\n      <td>2020-01-01 22:23:00</td>\n      <td>2020-01-01 22:25:00</td>\n      <td>2020-01-01 22:37:00</td>\n      <td>2020-01-01 22:38:00</td>\n      <td>45</td>\n      <td>0</td>\n      <td>14</td>\n      <td>13</td>\n    </tr>\n    <tr>\n      <th>3</th>\n      <td>2020-01-01</td>\n      <td>12138</td>\n      <td>2734206</td>\n      <td>2020-01-01 22:38:00</td>\n      <td>2020-01-01 22:40:00</td>\n      <td>2020-01-01 22:56:00</td>\n      <td>2020-01-01 22:57:00</td>\n      <td>61</td>\n      <td>0</td>\n      <td>18</td>\n      <td>17</td>\n    </tr>\n    <tr>\n      <th>4</th>\n      <td>2020-01-01</td>\n      <td>12138</td>\n      <td>2742572</td>\n      <td>2020-01-01 22:54:00</td>\n      <td>2020-01-01 22:56:00</td>\n      <td>2020-01-01 23:14:00</td>\n      <td>2020-01-01 23:15:00</td>\n      <td>76</td>\n      <td>0</td>\n      <td>20</td>\n      <td>19</td>\n    </tr>\n    <tr>\n      <th>...</th>\n      <td>...</td>\n      <td>...</td>\n      <td>...</td>\n      <td>...</td>\n      <td>...</td>\n      <td>...</td>\n      <td>...</td>\n      <td>...</td>\n      <td>...</td>\n      <td>...</td>\n      <td>...</td>\n    </tr>\n    <tr>\n      <th>31870</th>\n      <td>2020-02-19</td>\n      <td>12925</td>\n      <td>2658284</td>\n      <td>2020-02-20 17:19:00</td>\n      <td>2020-02-20 17:21:00</td>\n      <td>2020-02-20 18:39:00</td>\n      <td>2020-02-20 18:41:00</td>\n      <td>1723</td>\n      <td>1</td>\n      <td>80</td>\n      <td>80</td>\n    </tr>\n    <tr>\n      <th>31871</th>\n      <td>2020-02-19</td>\n      <td>12925</td>\n      <td>2657701</td>\n      <td>2020-02-20 17:37:00</td>\n      <td>2020-02-20 17:39:00</td>\n      <td>2020-02-20 19:04:00</td>\n      <td>2020-02-20 19:06:00</td>\n      <td>1739</td>\n      <td>1</td>\n      <td>87</td>\n      <td>87</td>\n    </tr>\n    <tr>\n      <th>31872</th>\n      <td>2020-02-19</td>\n      <td>12925</td>\n      <td>2657676</td>\n      <td>2020-02-20 17:53:00</td>\n      <td>2020-02-20 17:58:00</td>\n      <td>2020-02-20 19:15:00</td>\n      <td>2020-02-20 19:30:00</td>\n      <td>1744</td>\n      <td>1</td>\n      <td>82</td>\n      <td>92</td>\n    </tr>\n    <tr>\n      <th>31873</th>\n      <td>2020-02-19</td>\n      <td>12925</td>\n      <td>2658299</td>\n      <td>2020-02-20 18:30:00</td>\n      <td>2020-02-20 18:32:00</td>\n      <td>2020-02-20 19:58:00</td>\n      <td>2020-02-20 20:00:00</td>\n      <td>1780</td>\n      <td>1</td>\n      <td>88</td>\n      <td>88</td>\n    </tr>\n    <tr>\n      <th>31874</th>\n      <td>2020-02-19</td>\n      <td>12925</td>\n      <td>2657719</td>\n      <td>2020-02-20 19:20:00</td>\n      <td>NaT</td>\n      <td>2020-02-20 20:27:00</td>\n      <td>2020-02-20 00:00:00</td>\n      <td>1823</td>\n      <td>1</td>\n      <td>67</td>\n      <td>0</td>\n    </tr>\n  </tbody>\n</table>\n<p>31875 rows × 11 columns</p>\n</div>"
     },
     "metadata": {},
     "execution_count": 10
    }
   ],
   "source": [
    "## Dropping the `stations` column to remove redundancy \n",
    "try:\n",
    "    train = train.drop('stations', axis=1)\n",
    "    test = test.drop('stations', axis=1)\n",
    "except: \n",
    "    train\n",
    "train"
   ]
  },
  {
   "cell_type": "code",
   "execution_count": 11,
   "metadata": {
    "tags": []
   },
   "outputs": [],
   "source": [
    "## Imputing NA values in sA and sD\n",
    "\n",
    "\n",
    "to_td = lambda x : pd.to_timedelta(x, unit = 'm')\n",
    "\n",
    "\n",
    "train['sA'] = train['aA'] -  train['ArrivalDelay'].apply(to_td)\n",
    "train['sD'] = train['aD'] - train['DepartureDelay'].apply(to_td)"
   ]
  },
  {
   "cell_type": "code",
   "execution_count": 12,
   "metadata": {},
   "outputs": [
    {
     "output_type": "execute_result",
     "data": {
      "text/plain": [
       "                           runDate  trainCode  trainStationId        sA  \\\n",
       "% missing values in train      0.0        0.0             0.0  0.000000   \n",
       "% missing values in test       0.0        0.0             0.0  2.158273   \n",
       "\n",
       "                                 sD   aA        aD  distance  dayCount  \\\n",
       "% missing values in train  0.313725  0.0  0.313725       0.0       0.0   \n",
       "% missing values in test   2.446043  NaN       NaN       0.0       0.0   \n",
       "\n",
       "                           ArrivalDelay  DepartureDelay  trainId  index  day  \n",
       "% missing values in train           0.0             0.0      NaN    NaN  NaN  \n",
       "% missing values in test            NaN             NaN      0.0    0.0  0.0  "
      ],
      "text/html": "<div>\n<style scoped>\n    .dataframe tbody tr th:only-of-type {\n        vertical-align: middle;\n    }\n\n    .dataframe tbody tr th {\n        vertical-align: top;\n    }\n\n    .dataframe thead th {\n        text-align: right;\n    }\n</style>\n<table border=\"1\" class=\"dataframe\">\n  <thead>\n    <tr style=\"text-align: right;\">\n      <th></th>\n      <th>runDate</th>\n      <th>trainCode</th>\n      <th>trainStationId</th>\n      <th>sA</th>\n      <th>sD</th>\n      <th>aA</th>\n      <th>aD</th>\n      <th>distance</th>\n      <th>dayCount</th>\n      <th>ArrivalDelay</th>\n      <th>DepartureDelay</th>\n      <th>trainId</th>\n      <th>index</th>\n      <th>day</th>\n    </tr>\n  </thead>\n  <tbody>\n    <tr>\n      <th>% missing values in train</th>\n      <td>0.0</td>\n      <td>0.0</td>\n      <td>0.0</td>\n      <td>0.000000</td>\n      <td>0.313725</td>\n      <td>0.0</td>\n      <td>0.313725</td>\n      <td>0.0</td>\n      <td>0.0</td>\n      <td>0.0</td>\n      <td>0.0</td>\n      <td>NaN</td>\n      <td>NaN</td>\n      <td>NaN</td>\n    </tr>\n    <tr>\n      <th>% missing values in test</th>\n      <td>0.0</td>\n      <td>0.0</td>\n      <td>0.0</td>\n      <td>2.158273</td>\n      <td>2.446043</td>\n      <td>NaN</td>\n      <td>NaN</td>\n      <td>0.0</td>\n      <td>0.0</td>\n      <td>NaN</td>\n      <td>NaN</td>\n      <td>0.0</td>\n      <td>0.0</td>\n      <td>0.0</td>\n    </tr>\n  </tbody>\n</table>\n</div>"
     },
     "metadata": {},
     "execution_count": 12
    }
   ],
   "source": [
    "missing_values = pd.DataFrame({c:(train[c].isna().sum()/len(train))*100 for c in train.columns},index=[\"% missing values in train\"])\n",
    "missing_values = missing_values.append(pd.DataFrame({c:(test[c].isna().sum()/len(test))*100 for c in test.columns},index=[\"% missing values in test\"]))\n",
    "missing_values"
   ]
  },
  {
   "source": [
    "### After Imputing the data \n",
    "\n",
    "Now we know that `ArrivalDelay`, `DepartureDelay` were derived columns but we can use those columns to derive the missing values in `scheduledArrival` and `scheduledDeparture`. \n",
    "\n",
    "For the missing values in test `sA` and `sD`; train `sD`. We will drop those values in both test and train.\n"
   ],
   "cell_type": "markdown",
   "metadata": {}
  },
  {
   "cell_type": "code",
   "execution_count": 13,
   "metadata": {},
   "outputs": [],
   "source": [
    "## Dropping NA values  \n",
    "\n",
    "train = train.dropna()\n",
    "test = test.dropna()"
   ]
  },
  {
   "source": [
    "### Dropping some features\n",
    "\n",
    "Since `Arrival Delay` is a derived column we can remove the `actualArrival` and `actualDeparture` from the train data"
   ],
   "cell_type": "markdown",
   "metadata": {}
  },
  {
   "cell_type": "code",
   "execution_count": 14,
   "metadata": {},
   "outputs": [
    {
     "output_type": "execute_result",
     "data": {
      "text/plain": [
       "         runDate  trainCode  trainStationId                  sA  \\\n",
       "0     2020-01-01      12138         2657812 2020-01-01 00:00:00   \n",
       "1     2020-01-01      12138         2659393 2020-01-01 22:05:00   \n",
       "2     2020-01-01      12138         2658108 2020-01-01 22:23:00   \n",
       "3     2020-01-01      12138         2734206 2020-01-01 22:38:00   \n",
       "4     2020-01-01      12138         2742572 2020-01-01 22:54:00   \n",
       "...          ...        ...             ...                 ...   \n",
       "31870 2020-02-19      12925         2658284 2020-02-20 17:19:00   \n",
       "31871 2020-02-19      12925         2657701 2020-02-20 17:37:00   \n",
       "31872 2020-02-19      12925         2657676 2020-02-20 17:53:00   \n",
       "31873 2020-02-19      12925         2658299 2020-02-20 18:30:00   \n",
       "31874 2020-02-19      12925         2657719 2020-02-20 19:20:00   \n",
       "\n",
       "                       sD  distance  dayCount  ArrivalDelay  DepartureDelay  \n",
       "0     2020-01-01 21:40:00         0         0             0               0  \n",
       "1     2020-01-01 22:07:00        32         0            11              11  \n",
       "2     2020-01-01 22:25:00        45         0            14              13  \n",
       "3     2020-01-01 22:40:00        61         0            18              17  \n",
       "4     2020-01-01 22:56:00        76         0            20              19  \n",
       "...                   ...       ...       ...           ...             ...  \n",
       "31870 2020-02-20 17:21:00      1723         1            80              80  \n",
       "31871 2020-02-20 17:39:00      1739         1            87              87  \n",
       "31872 2020-02-20 17:58:00      1744         1            82              92  \n",
       "31873 2020-02-20 18:32:00      1780         1            88              88  \n",
       "31874 2020-02-20 00:00:00      1823         1            67               0  \n",
       "\n",
       "[31775 rows x 9 columns]"
      ],
      "text/html": "<div>\n<style scoped>\n    .dataframe tbody tr th:only-of-type {\n        vertical-align: middle;\n    }\n\n    .dataframe tbody tr th {\n        vertical-align: top;\n    }\n\n    .dataframe thead th {\n        text-align: right;\n    }\n</style>\n<table border=\"1\" class=\"dataframe\">\n  <thead>\n    <tr style=\"text-align: right;\">\n      <th></th>\n      <th>runDate</th>\n      <th>trainCode</th>\n      <th>trainStationId</th>\n      <th>sA</th>\n      <th>sD</th>\n      <th>distance</th>\n      <th>dayCount</th>\n      <th>ArrivalDelay</th>\n      <th>DepartureDelay</th>\n    </tr>\n  </thead>\n  <tbody>\n    <tr>\n      <th>0</th>\n      <td>2020-01-01</td>\n      <td>12138</td>\n      <td>2657812</td>\n      <td>2020-01-01 00:00:00</td>\n      <td>2020-01-01 21:40:00</td>\n      <td>0</td>\n      <td>0</td>\n      <td>0</td>\n      <td>0</td>\n    </tr>\n    <tr>\n      <th>1</th>\n      <td>2020-01-01</td>\n      <td>12138</td>\n      <td>2659393</td>\n      <td>2020-01-01 22:05:00</td>\n      <td>2020-01-01 22:07:00</td>\n      <td>32</td>\n      <td>0</td>\n      <td>11</td>\n      <td>11</td>\n    </tr>\n    <tr>\n      <th>2</th>\n      <td>2020-01-01</td>\n      <td>12138</td>\n      <td>2658108</td>\n      <td>2020-01-01 22:23:00</td>\n      <td>2020-01-01 22:25:00</td>\n      <td>45</td>\n      <td>0</td>\n      <td>14</td>\n      <td>13</td>\n    </tr>\n    <tr>\n      <th>3</th>\n      <td>2020-01-01</td>\n      <td>12138</td>\n      <td>2734206</td>\n      <td>2020-01-01 22:38:00</td>\n      <td>2020-01-01 22:40:00</td>\n      <td>61</td>\n      <td>0</td>\n      <td>18</td>\n      <td>17</td>\n    </tr>\n    <tr>\n      <th>4</th>\n      <td>2020-01-01</td>\n      <td>12138</td>\n      <td>2742572</td>\n      <td>2020-01-01 22:54:00</td>\n      <td>2020-01-01 22:56:00</td>\n      <td>76</td>\n      <td>0</td>\n      <td>20</td>\n      <td>19</td>\n    </tr>\n    <tr>\n      <th>...</th>\n      <td>...</td>\n      <td>...</td>\n      <td>...</td>\n      <td>...</td>\n      <td>...</td>\n      <td>...</td>\n      <td>...</td>\n      <td>...</td>\n      <td>...</td>\n    </tr>\n    <tr>\n      <th>31870</th>\n      <td>2020-02-19</td>\n      <td>12925</td>\n      <td>2658284</td>\n      <td>2020-02-20 17:19:00</td>\n      <td>2020-02-20 17:21:00</td>\n      <td>1723</td>\n      <td>1</td>\n      <td>80</td>\n      <td>80</td>\n    </tr>\n    <tr>\n      <th>31871</th>\n      <td>2020-02-19</td>\n      <td>12925</td>\n      <td>2657701</td>\n      <td>2020-02-20 17:37:00</td>\n      <td>2020-02-20 17:39:00</td>\n      <td>1739</td>\n      <td>1</td>\n      <td>87</td>\n      <td>87</td>\n    </tr>\n    <tr>\n      <th>31872</th>\n      <td>2020-02-19</td>\n      <td>12925</td>\n      <td>2657676</td>\n      <td>2020-02-20 17:53:00</td>\n      <td>2020-02-20 17:58:00</td>\n      <td>1744</td>\n      <td>1</td>\n      <td>82</td>\n      <td>92</td>\n    </tr>\n    <tr>\n      <th>31873</th>\n      <td>2020-02-19</td>\n      <td>12925</td>\n      <td>2658299</td>\n      <td>2020-02-20 18:30:00</td>\n      <td>2020-02-20 18:32:00</td>\n      <td>1780</td>\n      <td>1</td>\n      <td>88</td>\n      <td>88</td>\n    </tr>\n    <tr>\n      <th>31874</th>\n      <td>2020-02-19</td>\n      <td>12925</td>\n      <td>2657719</td>\n      <td>2020-02-20 19:20:00</td>\n      <td>2020-02-20 00:00:00</td>\n      <td>1823</td>\n      <td>1</td>\n      <td>67</td>\n      <td>0</td>\n    </tr>\n  </tbody>\n</table>\n<p>31775 rows × 9 columns</p>\n</div>"
     },
     "metadata": {},
     "execution_count": 14
    }
   ],
   "source": [
    "try:\n",
    "    train = train.drop('aA', axis = 1)\n",
    "    train = train.drop('aD', axis = 1)\n",
    "except:\n",
    "    train\n",
    "train"
   ]
  },
  {
   "source": [
    "### Breaking down the datetime values\n",
    "\n",
    "1. Dropping the year 2020 from all the datetime formats\n",
    "2. Dropping the `second` from datetime values. \n",
    "3. Breaking all the date time values in `test` and `train` data.\n",
    "\n",
    "Not taking year and seconds because of having the same value all along \n",
    " "
   ],
   "cell_type": "markdown",
   "metadata": {}
  },
  {
   "cell_type": "code",
   "execution_count": 15,
   "metadata": {},
   "outputs": [
    {
     "output_type": "execute_result",
     "data": {
      "text/plain": [
       "         runDate  trainCode  trainStationId                  sA  \\\n",
       "0     2020-01-01      12138         2657812 2020-01-01 00:00:00   \n",
       "1     2020-01-01      12138         2659393 2020-01-01 22:05:00   \n",
       "2     2020-01-01      12138         2658108 2020-01-01 22:23:00   \n",
       "3     2020-01-01      12138         2734206 2020-01-01 22:38:00   \n",
       "4     2020-01-01      12138         2742572 2020-01-01 22:54:00   \n",
       "...          ...        ...             ...                 ...   \n",
       "31870 2020-02-19      12925         2658284 2020-02-20 17:19:00   \n",
       "31871 2020-02-19      12925         2657701 2020-02-20 17:37:00   \n",
       "31872 2020-02-19      12925         2657676 2020-02-20 17:53:00   \n",
       "31873 2020-02-19      12925         2658299 2020-02-20 18:30:00   \n",
       "31874 2020-02-19      12925         2657719 2020-02-20 19:20:00   \n",
       "\n",
       "                       sD  distance  dayCount  ArrivalDelay  DepartureDelay  \\\n",
       "0     2020-01-01 21:40:00         0         0             0               0   \n",
       "1     2020-01-01 22:07:00        32         0            11              11   \n",
       "2     2020-01-01 22:25:00        45         0            14              13   \n",
       "3     2020-01-01 22:40:00        61         0            18              17   \n",
       "4     2020-01-01 22:56:00        76         0            20              19   \n",
       "...                   ...       ...       ...           ...             ...   \n",
       "31870 2020-02-20 17:21:00      1723         1            80              80   \n",
       "31871 2020-02-20 17:39:00      1739         1            87              87   \n",
       "31872 2020-02-20 17:58:00      1744         1            82              92   \n",
       "31873 2020-02-20 18:32:00      1780         1            88              88   \n",
       "31874 2020-02-20 00:00:00      1823         1            67               0   \n",
       "\n",
       "       runDate_month  runDate_date  sA_month  sA_day  sA_minute  sA_hour  \\\n",
       "0                  1             1         1       1          0        0   \n",
       "1                  1             1         1       1          5       22   \n",
       "2                  1             1         1       1         23       22   \n",
       "3                  1             1         1       1         38       22   \n",
       "4                  1             1         1       1         54       22   \n",
       "...              ...           ...       ...     ...        ...      ...   \n",
       "31870              2            19         2      20         19       17   \n",
       "31871              2            19         2      20         37       17   \n",
       "31872              2            19         2      20         53       17   \n",
       "31873              2            19         2      20         30       18   \n",
       "31874              2            19         2      20         20       19   \n",
       "\n",
       "       sD_month  sD_day  sD_hour  sD_minute  \n",
       "0             1       1       21         40  \n",
       "1             1       1       22          7  \n",
       "2             1       1       22         25  \n",
       "3             1       1       22         40  \n",
       "4             1       1       22         56  \n",
       "...         ...     ...      ...        ...  \n",
       "31870         2      20       17         21  \n",
       "31871         2      20       17         39  \n",
       "31872         2      20       17         58  \n",
       "31873         2      20       18         32  \n",
       "31874         2      20        0          0  \n",
       "\n",
       "[31775 rows x 19 columns]"
      ],
      "text/html": "<div>\n<style scoped>\n    .dataframe tbody tr th:only-of-type {\n        vertical-align: middle;\n    }\n\n    .dataframe tbody tr th {\n        vertical-align: top;\n    }\n\n    .dataframe thead th {\n        text-align: right;\n    }\n</style>\n<table border=\"1\" class=\"dataframe\">\n  <thead>\n    <tr style=\"text-align: right;\">\n      <th></th>\n      <th>runDate</th>\n      <th>trainCode</th>\n      <th>trainStationId</th>\n      <th>sA</th>\n      <th>sD</th>\n      <th>distance</th>\n      <th>dayCount</th>\n      <th>ArrivalDelay</th>\n      <th>DepartureDelay</th>\n      <th>runDate_month</th>\n      <th>runDate_date</th>\n      <th>sA_month</th>\n      <th>sA_day</th>\n      <th>sA_minute</th>\n      <th>sA_hour</th>\n      <th>sD_month</th>\n      <th>sD_day</th>\n      <th>sD_hour</th>\n      <th>sD_minute</th>\n    </tr>\n  </thead>\n  <tbody>\n    <tr>\n      <th>0</th>\n      <td>2020-01-01</td>\n      <td>12138</td>\n      <td>2657812</td>\n      <td>2020-01-01 00:00:00</td>\n      <td>2020-01-01 21:40:00</td>\n      <td>0</td>\n      <td>0</td>\n      <td>0</td>\n      <td>0</td>\n      <td>1</td>\n      <td>1</td>\n      <td>1</td>\n      <td>1</td>\n      <td>0</td>\n      <td>0</td>\n      <td>1</td>\n      <td>1</td>\n      <td>21</td>\n      <td>40</td>\n    </tr>\n    <tr>\n      <th>1</th>\n      <td>2020-01-01</td>\n      <td>12138</td>\n      <td>2659393</td>\n      <td>2020-01-01 22:05:00</td>\n      <td>2020-01-01 22:07:00</td>\n      <td>32</td>\n      <td>0</td>\n      <td>11</td>\n      <td>11</td>\n      <td>1</td>\n      <td>1</td>\n      <td>1</td>\n      <td>1</td>\n      <td>5</td>\n      <td>22</td>\n      <td>1</td>\n      <td>1</td>\n      <td>22</td>\n      <td>7</td>\n    </tr>\n    <tr>\n      <th>2</th>\n      <td>2020-01-01</td>\n      <td>12138</td>\n      <td>2658108</td>\n      <td>2020-01-01 22:23:00</td>\n      <td>2020-01-01 22:25:00</td>\n      <td>45</td>\n      <td>0</td>\n      <td>14</td>\n      <td>13</td>\n      <td>1</td>\n      <td>1</td>\n      <td>1</td>\n      <td>1</td>\n      <td>23</td>\n      <td>22</td>\n      <td>1</td>\n      <td>1</td>\n      <td>22</td>\n      <td>25</td>\n    </tr>\n    <tr>\n      <th>3</th>\n      <td>2020-01-01</td>\n      <td>12138</td>\n      <td>2734206</td>\n      <td>2020-01-01 22:38:00</td>\n      <td>2020-01-01 22:40:00</td>\n      <td>61</td>\n      <td>0</td>\n      <td>18</td>\n      <td>17</td>\n      <td>1</td>\n      <td>1</td>\n      <td>1</td>\n      <td>1</td>\n      <td>38</td>\n      <td>22</td>\n      <td>1</td>\n      <td>1</td>\n      <td>22</td>\n      <td>40</td>\n    </tr>\n    <tr>\n      <th>4</th>\n      <td>2020-01-01</td>\n      <td>12138</td>\n      <td>2742572</td>\n      <td>2020-01-01 22:54:00</td>\n      <td>2020-01-01 22:56:00</td>\n      <td>76</td>\n      <td>0</td>\n      <td>20</td>\n      <td>19</td>\n      <td>1</td>\n      <td>1</td>\n      <td>1</td>\n      <td>1</td>\n      <td>54</td>\n      <td>22</td>\n      <td>1</td>\n      <td>1</td>\n      <td>22</td>\n      <td>56</td>\n    </tr>\n    <tr>\n      <th>...</th>\n      <td>...</td>\n      <td>...</td>\n      <td>...</td>\n      <td>...</td>\n      <td>...</td>\n      <td>...</td>\n      <td>...</td>\n      <td>...</td>\n      <td>...</td>\n      <td>...</td>\n      <td>...</td>\n      <td>...</td>\n      <td>...</td>\n      <td>...</td>\n      <td>...</td>\n      <td>...</td>\n      <td>...</td>\n      <td>...</td>\n      <td>...</td>\n    </tr>\n    <tr>\n      <th>31870</th>\n      <td>2020-02-19</td>\n      <td>12925</td>\n      <td>2658284</td>\n      <td>2020-02-20 17:19:00</td>\n      <td>2020-02-20 17:21:00</td>\n      <td>1723</td>\n      <td>1</td>\n      <td>80</td>\n      <td>80</td>\n      <td>2</td>\n      <td>19</td>\n      <td>2</td>\n      <td>20</td>\n      <td>19</td>\n      <td>17</td>\n      <td>2</td>\n      <td>20</td>\n      <td>17</td>\n      <td>21</td>\n    </tr>\n    <tr>\n      <th>31871</th>\n      <td>2020-02-19</td>\n      <td>12925</td>\n      <td>2657701</td>\n      <td>2020-02-20 17:37:00</td>\n      <td>2020-02-20 17:39:00</td>\n      <td>1739</td>\n      <td>1</td>\n      <td>87</td>\n      <td>87</td>\n      <td>2</td>\n      <td>19</td>\n      <td>2</td>\n      <td>20</td>\n      <td>37</td>\n      <td>17</td>\n      <td>2</td>\n      <td>20</td>\n      <td>17</td>\n      <td>39</td>\n    </tr>\n    <tr>\n      <th>31872</th>\n      <td>2020-02-19</td>\n      <td>12925</td>\n      <td>2657676</td>\n      <td>2020-02-20 17:53:00</td>\n      <td>2020-02-20 17:58:00</td>\n      <td>1744</td>\n      <td>1</td>\n      <td>82</td>\n      <td>92</td>\n      <td>2</td>\n      <td>19</td>\n      <td>2</td>\n      <td>20</td>\n      <td>53</td>\n      <td>17</td>\n      <td>2</td>\n      <td>20</td>\n      <td>17</td>\n      <td>58</td>\n    </tr>\n    <tr>\n      <th>31873</th>\n      <td>2020-02-19</td>\n      <td>12925</td>\n      <td>2658299</td>\n      <td>2020-02-20 18:30:00</td>\n      <td>2020-02-20 18:32:00</td>\n      <td>1780</td>\n      <td>1</td>\n      <td>88</td>\n      <td>88</td>\n      <td>2</td>\n      <td>19</td>\n      <td>2</td>\n      <td>20</td>\n      <td>30</td>\n      <td>18</td>\n      <td>2</td>\n      <td>20</td>\n      <td>18</td>\n      <td>32</td>\n    </tr>\n    <tr>\n      <th>31874</th>\n      <td>2020-02-19</td>\n      <td>12925</td>\n      <td>2657719</td>\n      <td>2020-02-20 19:20:00</td>\n      <td>2020-02-20 00:00:00</td>\n      <td>1823</td>\n      <td>1</td>\n      <td>67</td>\n      <td>0</td>\n      <td>2</td>\n      <td>19</td>\n      <td>2</td>\n      <td>20</td>\n      <td>20</td>\n      <td>19</td>\n      <td>2</td>\n      <td>20</td>\n      <td>0</td>\n      <td>0</td>\n    </tr>\n  </tbody>\n</table>\n<p>31775 rows × 19 columns</p>\n</div>"
     },
     "metadata": {},
     "execution_count": 15
    }
   ],
   "source": [
    "## For train data\n",
    "\n",
    "train['runDate_month'] = pd.DatetimeIndex(train['runDate']).month\n",
    "train['runDate_date'] = pd.DatetimeIndex(train['runDate']).day\n",
    "\n",
    "train['sA_month'] = pd.DatetimeIndex(train['sA']).month\n",
    "train['sA_day'] = pd.DatetimeIndex(train['sA']).day\n",
    "train['sA_minute'] = pd.DatetimeIndex(train['sA']).minute\n",
    "train['sA_hour'] = pd.DatetimeIndex(train['sA']).hour\n",
    "\n",
    "train['sD_month'] = pd.DatetimeIndex(train['sD']).month\n",
    "train['sD_day'] = pd.DatetimeIndex(train['sD']).day\n",
    "train['sD_hour'] = pd.DatetimeIndex(train['sD']).hour\n",
    "train['sD_minute'] = pd.DatetimeIndex(train['sD']).minute\n",
    "\n",
    "train\n",
    "## Not taking year and seconds because of having the same value all along \n"
   ]
  },
  {
   "source": [
    "Since, Number of features of the model must match the input. Model n_features is 14 and input n_features is 17 "
   ],
   "cell_type": "markdown",
   "metadata": {}
  },
  {
   "cell_type": "code",
   "execution_count": 16,
   "metadata": {},
   "outputs": [
    {
     "output_type": "execute_result",
     "data": {
      "text/plain": [
       "       runDate  trainCode  trainStationId                  sA  \\\n",
       "1   2020-02-20      12138         2659393 2020-02-20 22:05:00   \n",
       "2   2020-02-20      12138         2658108 2020-02-20 22:23:00   \n",
       "3   2020-02-20      12138         2734206 2020-02-20 22:38:00   \n",
       "4   2020-02-20      12138         2742572 2020-02-20 22:54:00   \n",
       "5   2020-02-20      12138         2657716 2020-02-20 23:25:00   \n",
       "..         ...        ...             ...                 ...   \n",
       "689 2020-02-20      12925         2658435 2020-02-21 16:46:00   \n",
       "690 2020-02-20      12925         2658284 2020-02-21 17:19:00   \n",
       "691 2020-02-20      12925         2657701 2020-02-21 17:37:00   \n",
       "692 2020-02-20      12925         2657676 2020-02-21 17:53:00   \n",
       "693 2020-02-20      12925         2658299 2020-02-21 18:30:00   \n",
       "\n",
       "                     sD  distance  dayCount       day  runDate_month  \\\n",
       "1   2020-02-20 22:07:00        32         0  Thursday              2   \n",
       "2   2020-02-20 22:25:00        45         0  Thursday              2   \n",
       "3   2020-02-20 22:40:00        61         0  Thursday              2   \n",
       "4   2020-02-20 22:56:00        76         0  Thursday              2   \n",
       "5   2020-02-20 23:50:00        88         0  Thursday              2   \n",
       "..                  ...       ...       ...       ...            ...   \n",
       "689 2020-02-21 16:51:00      1687         1  Thursday              2   \n",
       "690 2020-02-21 17:21:00      1723         1  Thursday              2   \n",
       "691 2020-02-21 17:39:00      1739         1  Thursday              2   \n",
       "692 2020-02-21 17:58:00      1744         1  Thursday              2   \n",
       "693 2020-02-21 18:32:00      1780         1  Thursday              2   \n",
       "\n",
       "     runDate_date  sA_month  sA_day  sA_hour  sA_minute  sD_month  sD_day  \\\n",
       "1              20         2      20       22          5         2      20   \n",
       "2              20         2      20       22         23         2      20   \n",
       "3              20         2      20       22         38         2      20   \n",
       "4              20         2      20       22         54         2      20   \n",
       "5              20         2      20       23         25         2      20   \n",
       "..            ...       ...     ...      ...        ...       ...     ...   \n",
       "689            20         2      21       16         46         2      21   \n",
       "690            20         2      21       17         19         2      21   \n",
       "691            20         2      21       17         37         2      21   \n",
       "692            20         2      21       17         53         2      21   \n",
       "693            20         2      21       18         30         2      21   \n",
       "\n",
       "     sD_hour  sD_minute  \n",
       "1         22          7  \n",
       "2         22         25  \n",
       "3         22         40  \n",
       "4         22         56  \n",
       "5         23         50  \n",
       "..       ...        ...  \n",
       "689       16         51  \n",
       "690       17         21  \n",
       "691       17         39  \n",
       "692       17         58  \n",
       "693       18         32  \n",
       "\n",
       "[663 rows x 18 columns]"
      ],
      "text/html": "<div>\n<style scoped>\n    .dataframe tbody tr th:only-of-type {\n        vertical-align: middle;\n    }\n\n    .dataframe tbody tr th {\n        vertical-align: top;\n    }\n\n    .dataframe thead th {\n        text-align: right;\n    }\n</style>\n<table border=\"1\" class=\"dataframe\">\n  <thead>\n    <tr style=\"text-align: right;\">\n      <th></th>\n      <th>runDate</th>\n      <th>trainCode</th>\n      <th>trainStationId</th>\n      <th>sA</th>\n      <th>sD</th>\n      <th>distance</th>\n      <th>dayCount</th>\n      <th>day</th>\n      <th>runDate_month</th>\n      <th>runDate_date</th>\n      <th>sA_month</th>\n      <th>sA_day</th>\n      <th>sA_hour</th>\n      <th>sA_minute</th>\n      <th>sD_month</th>\n      <th>sD_day</th>\n      <th>sD_hour</th>\n      <th>sD_minute</th>\n    </tr>\n  </thead>\n  <tbody>\n    <tr>\n      <th>1</th>\n      <td>2020-02-20</td>\n      <td>12138</td>\n      <td>2659393</td>\n      <td>2020-02-20 22:05:00</td>\n      <td>2020-02-20 22:07:00</td>\n      <td>32</td>\n      <td>0</td>\n      <td>Thursday</td>\n      <td>2</td>\n      <td>20</td>\n      <td>2</td>\n      <td>20</td>\n      <td>22</td>\n      <td>5</td>\n      <td>2</td>\n      <td>20</td>\n      <td>22</td>\n      <td>7</td>\n    </tr>\n    <tr>\n      <th>2</th>\n      <td>2020-02-20</td>\n      <td>12138</td>\n      <td>2658108</td>\n      <td>2020-02-20 22:23:00</td>\n      <td>2020-02-20 22:25:00</td>\n      <td>45</td>\n      <td>0</td>\n      <td>Thursday</td>\n      <td>2</td>\n      <td>20</td>\n      <td>2</td>\n      <td>20</td>\n      <td>22</td>\n      <td>23</td>\n      <td>2</td>\n      <td>20</td>\n      <td>22</td>\n      <td>25</td>\n    </tr>\n    <tr>\n      <th>3</th>\n      <td>2020-02-20</td>\n      <td>12138</td>\n      <td>2734206</td>\n      <td>2020-02-20 22:38:00</td>\n      <td>2020-02-20 22:40:00</td>\n      <td>61</td>\n      <td>0</td>\n      <td>Thursday</td>\n      <td>2</td>\n      <td>20</td>\n      <td>2</td>\n      <td>20</td>\n      <td>22</td>\n      <td>38</td>\n      <td>2</td>\n      <td>20</td>\n      <td>22</td>\n      <td>40</td>\n    </tr>\n    <tr>\n      <th>4</th>\n      <td>2020-02-20</td>\n      <td>12138</td>\n      <td>2742572</td>\n      <td>2020-02-20 22:54:00</td>\n      <td>2020-02-20 22:56:00</td>\n      <td>76</td>\n      <td>0</td>\n      <td>Thursday</td>\n      <td>2</td>\n      <td>20</td>\n      <td>2</td>\n      <td>20</td>\n      <td>22</td>\n      <td>54</td>\n      <td>2</td>\n      <td>20</td>\n      <td>22</td>\n      <td>56</td>\n    </tr>\n    <tr>\n      <th>5</th>\n      <td>2020-02-20</td>\n      <td>12138</td>\n      <td>2657716</td>\n      <td>2020-02-20 23:25:00</td>\n      <td>2020-02-20 23:50:00</td>\n      <td>88</td>\n      <td>0</td>\n      <td>Thursday</td>\n      <td>2</td>\n      <td>20</td>\n      <td>2</td>\n      <td>20</td>\n      <td>23</td>\n      <td>25</td>\n      <td>2</td>\n      <td>20</td>\n      <td>23</td>\n      <td>50</td>\n    </tr>\n    <tr>\n      <th>...</th>\n      <td>...</td>\n      <td>...</td>\n      <td>...</td>\n      <td>...</td>\n      <td>...</td>\n      <td>...</td>\n      <td>...</td>\n      <td>...</td>\n      <td>...</td>\n      <td>...</td>\n      <td>...</td>\n      <td>...</td>\n      <td>...</td>\n      <td>...</td>\n      <td>...</td>\n      <td>...</td>\n      <td>...</td>\n      <td>...</td>\n    </tr>\n    <tr>\n      <th>689</th>\n      <td>2020-02-20</td>\n      <td>12925</td>\n      <td>2658435</td>\n      <td>2020-02-21 16:46:00</td>\n      <td>2020-02-21 16:51:00</td>\n      <td>1687</td>\n      <td>1</td>\n      <td>Thursday</td>\n      <td>2</td>\n      <td>20</td>\n      <td>2</td>\n      <td>21</td>\n      <td>16</td>\n      <td>46</td>\n      <td>2</td>\n      <td>21</td>\n      <td>16</td>\n      <td>51</td>\n    </tr>\n    <tr>\n      <th>690</th>\n      <td>2020-02-20</td>\n      <td>12925</td>\n      <td>2658284</td>\n      <td>2020-02-21 17:19:00</td>\n      <td>2020-02-21 17:21:00</td>\n      <td>1723</td>\n      <td>1</td>\n      <td>Thursday</td>\n      <td>2</td>\n      <td>20</td>\n      <td>2</td>\n      <td>21</td>\n      <td>17</td>\n      <td>19</td>\n      <td>2</td>\n      <td>21</td>\n      <td>17</td>\n      <td>21</td>\n    </tr>\n    <tr>\n      <th>691</th>\n      <td>2020-02-20</td>\n      <td>12925</td>\n      <td>2657701</td>\n      <td>2020-02-21 17:37:00</td>\n      <td>2020-02-21 17:39:00</td>\n      <td>1739</td>\n      <td>1</td>\n      <td>Thursday</td>\n      <td>2</td>\n      <td>20</td>\n      <td>2</td>\n      <td>21</td>\n      <td>17</td>\n      <td>37</td>\n      <td>2</td>\n      <td>21</td>\n      <td>17</td>\n      <td>39</td>\n    </tr>\n    <tr>\n      <th>692</th>\n      <td>2020-02-20</td>\n      <td>12925</td>\n      <td>2657676</td>\n      <td>2020-02-21 17:53:00</td>\n      <td>2020-02-21 17:58:00</td>\n      <td>1744</td>\n      <td>1</td>\n      <td>Thursday</td>\n      <td>2</td>\n      <td>20</td>\n      <td>2</td>\n      <td>21</td>\n      <td>17</td>\n      <td>53</td>\n      <td>2</td>\n      <td>21</td>\n      <td>17</td>\n      <td>58</td>\n    </tr>\n    <tr>\n      <th>693</th>\n      <td>2020-02-20</td>\n      <td>12925</td>\n      <td>2658299</td>\n      <td>2020-02-21 18:30:00</td>\n      <td>2020-02-21 18:32:00</td>\n      <td>1780</td>\n      <td>1</td>\n      <td>Thursday</td>\n      <td>2</td>\n      <td>20</td>\n      <td>2</td>\n      <td>21</td>\n      <td>18</td>\n      <td>30</td>\n      <td>2</td>\n      <td>21</td>\n      <td>18</td>\n      <td>32</td>\n    </tr>\n  </tbody>\n</table>\n<p>663 rows × 18 columns</p>\n</div>"
     },
     "metadata": {},
     "execution_count": 16
    }
   ],
   "source": [
    "## For test data\n",
    "\n",
    "test['runDate_month'] = pd.DatetimeIndex(test['runDate']).month\n",
    "test['runDate_date'] = pd.DatetimeIndex(test['runDate']).day\n",
    "\n",
    "test['sA_month'] = pd.DatetimeIndex(test['sA']).month\n",
    "test['sA_day'] = pd.DatetimeIndex(test['sA']).day\n",
    "test['sA_hour'] = pd.DatetimeIndex(test['sA']).hour\n",
    "test['sA_minute'] = pd.DatetimeIndex(test['sA']).minute\n",
    "\n",
    "test['sD_month'] = pd.DatetimeIndex(test['sD']).month\n",
    "test['sD_day'] = pd.DatetimeIndex(test['sD']).day\n",
    "test['sD_hour'] = pd.DatetimeIndex(test['sD']).hour\n",
    "test['sD_minute'] = pd.DatetimeIndex(test['sD']).minute\n",
    "\n",
    "test = test.drop(['trainId', 'index'], axis=1)\n",
    "test"
   ]
  },
  {
   "cell_type": "code",
   "execution_count": 17,
   "metadata": {},
   "outputs": [
    {
     "output_type": "execute_result",
     "data": {
      "text/plain": [
       "       trainCode  trainStationId  distance  dayCount  ArrivalDelay  \\\n",
       "0          12138         2657812         0         0             0   \n",
       "1          12138         2659393        32         0            11   \n",
       "2          12138         2658108        45         0            14   \n",
       "3          12138         2734206        61         0            18   \n",
       "4          12138         2742572        76         0            20   \n",
       "...          ...             ...       ...       ...           ...   \n",
       "31870      12925         2658284      1723         1            80   \n",
       "31871      12925         2657701      1739         1            87   \n",
       "31872      12925         2657676      1744         1            82   \n",
       "31873      12925         2658299      1780         1            88   \n",
       "31874      12925         2657719      1823         1            67   \n",
       "\n",
       "       DepartureDelay  runDate_month  runDate_date  sA_month  sA_day  \\\n",
       "0                   0              1             1         1       1   \n",
       "1                  11              1             1         1       1   \n",
       "2                  13              1             1         1       1   \n",
       "3                  17              1             1         1       1   \n",
       "4                  19              1             1         1       1   \n",
       "...               ...            ...           ...       ...     ...   \n",
       "31870              80              2            19         2      20   \n",
       "31871              87              2            19         2      20   \n",
       "31872              92              2            19         2      20   \n",
       "31873              88              2            19         2      20   \n",
       "31874               0              2            19         2      20   \n",
       "\n",
       "       sA_minute  sA_hour  sD_month  sD_day  sD_hour  sD_minute  \n",
       "0              0        0         1       1       21         40  \n",
       "1              5       22         1       1       22          7  \n",
       "2             23       22         1       1       22         25  \n",
       "3             38       22         1       1       22         40  \n",
       "4             54       22         1       1       22         56  \n",
       "...          ...      ...       ...     ...      ...        ...  \n",
       "31870         19       17         2      20       17         21  \n",
       "31871         37       17         2      20       17         39  \n",
       "31872         53       17         2      20       17         58  \n",
       "31873         30       18         2      20       18         32  \n",
       "31874         20       19         2      20        0          0  \n",
       "\n",
       "[31775 rows x 16 columns]"
      ],
      "text/html": "<div>\n<style scoped>\n    .dataframe tbody tr th:only-of-type {\n        vertical-align: middle;\n    }\n\n    .dataframe tbody tr th {\n        vertical-align: top;\n    }\n\n    .dataframe thead th {\n        text-align: right;\n    }\n</style>\n<table border=\"1\" class=\"dataframe\">\n  <thead>\n    <tr style=\"text-align: right;\">\n      <th></th>\n      <th>trainCode</th>\n      <th>trainStationId</th>\n      <th>distance</th>\n      <th>dayCount</th>\n      <th>ArrivalDelay</th>\n      <th>DepartureDelay</th>\n      <th>runDate_month</th>\n      <th>runDate_date</th>\n      <th>sA_month</th>\n      <th>sA_day</th>\n      <th>sA_minute</th>\n      <th>sA_hour</th>\n      <th>sD_month</th>\n      <th>sD_day</th>\n      <th>sD_hour</th>\n      <th>sD_minute</th>\n    </tr>\n  </thead>\n  <tbody>\n    <tr>\n      <th>0</th>\n      <td>12138</td>\n      <td>2657812</td>\n      <td>0</td>\n      <td>0</td>\n      <td>0</td>\n      <td>0</td>\n      <td>1</td>\n      <td>1</td>\n      <td>1</td>\n      <td>1</td>\n      <td>0</td>\n      <td>0</td>\n      <td>1</td>\n      <td>1</td>\n      <td>21</td>\n      <td>40</td>\n    </tr>\n    <tr>\n      <th>1</th>\n      <td>12138</td>\n      <td>2659393</td>\n      <td>32</td>\n      <td>0</td>\n      <td>11</td>\n      <td>11</td>\n      <td>1</td>\n      <td>1</td>\n      <td>1</td>\n      <td>1</td>\n      <td>5</td>\n      <td>22</td>\n      <td>1</td>\n      <td>1</td>\n      <td>22</td>\n      <td>7</td>\n    </tr>\n    <tr>\n      <th>2</th>\n      <td>12138</td>\n      <td>2658108</td>\n      <td>45</td>\n      <td>0</td>\n      <td>14</td>\n      <td>13</td>\n      <td>1</td>\n      <td>1</td>\n      <td>1</td>\n      <td>1</td>\n      <td>23</td>\n      <td>22</td>\n      <td>1</td>\n      <td>1</td>\n      <td>22</td>\n      <td>25</td>\n    </tr>\n    <tr>\n      <th>3</th>\n      <td>12138</td>\n      <td>2734206</td>\n      <td>61</td>\n      <td>0</td>\n      <td>18</td>\n      <td>17</td>\n      <td>1</td>\n      <td>1</td>\n      <td>1</td>\n      <td>1</td>\n      <td>38</td>\n      <td>22</td>\n      <td>1</td>\n      <td>1</td>\n      <td>22</td>\n      <td>40</td>\n    </tr>\n    <tr>\n      <th>4</th>\n      <td>12138</td>\n      <td>2742572</td>\n      <td>76</td>\n      <td>0</td>\n      <td>20</td>\n      <td>19</td>\n      <td>1</td>\n      <td>1</td>\n      <td>1</td>\n      <td>1</td>\n      <td>54</td>\n      <td>22</td>\n      <td>1</td>\n      <td>1</td>\n      <td>22</td>\n      <td>56</td>\n    </tr>\n    <tr>\n      <th>...</th>\n      <td>...</td>\n      <td>...</td>\n      <td>...</td>\n      <td>...</td>\n      <td>...</td>\n      <td>...</td>\n      <td>...</td>\n      <td>...</td>\n      <td>...</td>\n      <td>...</td>\n      <td>...</td>\n      <td>...</td>\n      <td>...</td>\n      <td>...</td>\n      <td>...</td>\n      <td>...</td>\n    </tr>\n    <tr>\n      <th>31870</th>\n      <td>12925</td>\n      <td>2658284</td>\n      <td>1723</td>\n      <td>1</td>\n      <td>80</td>\n      <td>80</td>\n      <td>2</td>\n      <td>19</td>\n      <td>2</td>\n      <td>20</td>\n      <td>19</td>\n      <td>17</td>\n      <td>2</td>\n      <td>20</td>\n      <td>17</td>\n      <td>21</td>\n    </tr>\n    <tr>\n      <th>31871</th>\n      <td>12925</td>\n      <td>2657701</td>\n      <td>1739</td>\n      <td>1</td>\n      <td>87</td>\n      <td>87</td>\n      <td>2</td>\n      <td>19</td>\n      <td>2</td>\n      <td>20</td>\n      <td>37</td>\n      <td>17</td>\n      <td>2</td>\n      <td>20</td>\n      <td>17</td>\n      <td>39</td>\n    </tr>\n    <tr>\n      <th>31872</th>\n      <td>12925</td>\n      <td>2657676</td>\n      <td>1744</td>\n      <td>1</td>\n      <td>82</td>\n      <td>92</td>\n      <td>2</td>\n      <td>19</td>\n      <td>2</td>\n      <td>20</td>\n      <td>53</td>\n      <td>17</td>\n      <td>2</td>\n      <td>20</td>\n      <td>17</td>\n      <td>58</td>\n    </tr>\n    <tr>\n      <th>31873</th>\n      <td>12925</td>\n      <td>2658299</td>\n      <td>1780</td>\n      <td>1</td>\n      <td>88</td>\n      <td>88</td>\n      <td>2</td>\n      <td>19</td>\n      <td>2</td>\n      <td>20</td>\n      <td>30</td>\n      <td>18</td>\n      <td>2</td>\n      <td>20</td>\n      <td>18</td>\n      <td>32</td>\n    </tr>\n    <tr>\n      <th>31874</th>\n      <td>12925</td>\n      <td>2657719</td>\n      <td>1823</td>\n      <td>1</td>\n      <td>67</td>\n      <td>0</td>\n      <td>2</td>\n      <td>19</td>\n      <td>2</td>\n      <td>20</td>\n      <td>20</td>\n      <td>19</td>\n      <td>2</td>\n      <td>20</td>\n      <td>0</td>\n      <td>0</td>\n    </tr>\n  </tbody>\n</table>\n<p>31775 rows × 16 columns</p>\n</div>"
     },
     "metadata": {},
     "execution_count": 17
    }
   ],
   "source": [
    "## Dropping sA, sD, and runDate\n",
    "\n",
    "train = train.drop(['sA', 'sD', 'runDate'], axis=1)\n",
    "test = test.drop(['sA', 'sD', 'runDate', 'day'], axis=1)\n",
    "\n",
    "# Since the day is a derived feature and there are only 2 uniques values for 'day' i.e. Wednesday or Thursday. Hence dropping 'day' also\n",
    "train\n"
   ]
  },
  {
   "source": [
    "## 6. Model Selection\n",
    "\n",
    "1. DecisionTreeRegressor\n",
    "2. RandomForestRegressor"
   ],
   "cell_type": "markdown",
   "metadata": {}
  },
  {
   "source": [
    "## 6.1 Model `ArrivalDelay`"
   ],
   "cell_type": "markdown",
   "metadata": {}
  },
  {
   "cell_type": "code",
   "execution_count": 18,
   "metadata": {},
   "outputs": [
    {
     "output_type": "stream",
     "name": "stdout",
     "text": [
      "(31775, 14) (31775,) (31775, 16) (663, 14)\n"
     ]
    }
   ],
   "source": [
    "# Get the Dependent and Independent Features.\n",
    "##  Model AD\n",
    "\n",
    "X = train.drop(['ArrivalDelay', 'DepartureDelay'], axis=1)\n",
    "Y = train['ArrivalDelay']\n",
    "print(X.shape, Y.shape, train.shape, test.shape)\n"
   ]
  },
  {
   "source": [
    "Creating a test data from the train data to check the accuracy level of the model by cross validation with the existing data"
   ],
   "cell_type": "markdown",
   "metadata": {}
  },
  {
   "cell_type": "code",
   "execution_count": 19,
   "metadata": {},
   "outputs": [
    {
     "output_type": "execute_result",
     "data": {
      "text/plain": [
       "DecisionTreeRegressor(random_state=0)"
      ]
     },
     "metadata": {},
     "execution_count": 19
    }
   ],
   "source": [
    "## 6.1.1 DecisionTreeRegressor\n",
    "\n",
    "X_train, X_test, Y_train, Y_test = train_test_split(X, Y, test_size=0.20, random_state=0)\n",
    "\n",
    "dt_reg_AD = DecisionTreeRegressor(random_state=0)\n",
    "dt_reg_AD.fit(X_train, Y_train)\n"
   ]
  },
  {
   "source": [
    "## Feature Importance \n",
    "\n",
    "Checked whether feature Importance is bogus by removing the `trainCode` feature and got to know that regressor score becomes `0.1113` but when the `trainCode` is supplied the score becomes mpre than `93`. But since `DepartureDelay` cannot be passed the score remains out to be `0.77763`.\n"
   ],
   "cell_type": "markdown",
   "metadata": {}
  },
  {
   "cell_type": "code",
   "execution_count": 20,
   "metadata": {},
   "outputs": [
    {
     "output_type": "stream",
     "name": "stdout",
     "text": [
      "Feature Importance:\n\ntrainCode -- 0.30\ntrainStationId -- 0.24\ndistance -- 0.15\ndayCount -- 0.09\nrunDate_month -- 0.09\nrunDate_date -- 0.03\nsA_month -- 0.03\nsA_day -- 0.03\nsA_minute -- 0.02\nsA_hour -- 0.01\nsD_month -- 0.01\nsD_day -- 0.01\nsD_hour -- 0.01\nsD_minute -- 0.00\n"
     ]
    }
   ],
   "source": [
    "print(\"Feature Importance:\\n\")\n",
    "for name, importance in zip(X.columns, np.sort(dt_reg_AD.feature_importances_)[::-1]):\n",
    "    print(\"{} -- {:.2f}\".format(name, importance))\n",
    "\n",
    "\n",
    "dt_reg_AD.score(X_test, Y_test)\n",
    "y_pred_dt_AD = dt_reg_AD.predict(X_test)\n"
   ]
  },
  {
   "cell_type": "code",
   "execution_count": 21,
   "metadata": {},
   "outputs": [],
   "source": [
    "## For actual Data\n",
    "\n",
    "preds = pd.DataFrame()\n",
    "dt_reg_AD.fit(X, Y)\n",
    "preds['ArrivalDelay_DT'] = dt_reg_AD.predict(test)\n"
   ]
  },
  {
   "cell_type": "code",
   "execution_count": 22,
   "metadata": {},
   "outputs": [
    {
     "output_type": "stream",
     "name": "stdout",
     "text": [
      "Feature Importance:\n\ntrainCode -- 0.39\ntrainStationId -- 0.34\ndistance -- 0.07\ndayCount -- 0.06\nrunDate_month -- 0.05\nrunDate_date -- 0.04\nsA_month -- 0.02\nsA_day -- 0.01\nsA_minute -- 0.01\nsA_hour -- 0.01\nsD_month -- 0.00\nsD_day -- 0.00\nsD_hour -- 0.00\nsD_minute -- 0.00\n"
     ]
    },
    {
     "output_type": "execute_result",
     "data": {
      "text/plain": [
       "0.3087801777044078"
      ]
     },
     "metadata": {},
     "execution_count": 22
    }
   ],
   "source": [
    "## 6.1.2 RandomForestRegressor\n",
    "\n",
    "rf_reg_AD = RandomForestRegressor(random_state=0, max_depth = 5, min_samples_split =  2, n_estimators = 20)\n",
    "rf_reg_AD.fit(X_train, Y_train)\n",
    "\n",
    "print(\"Feature Importance:\\n\")\n",
    "for name, importance in zip(X.columns, np.sort(rf_reg_AD.feature_importances_)[::-1]):\n",
    "    print(\"{} -- {:.2f}\".format(name, importance))\n",
    "\n",
    "\n",
    "rf_reg_AD.score(X_test, Y_test)"
   ]
  },
  {
   "cell_type": "code",
   "execution_count": 23,
   "metadata": {},
   "outputs": [],
   "source": [
    "y_pred_rf_AD = rf_reg_AD.predict(X_test)"
   ]
  },
  {
   "cell_type": "code",
   "execution_count": 24,
   "metadata": {},
   "outputs": [
    {
     "output_type": "stream",
     "name": "stdout",
     "text": [
      "Fitting 5 folds for each of 8 candidates, totalling 40 fits\n",
      "[Parallel(n_jobs=-1)]: Using backend LokyBackend with 8 concurrent workers.\n",
      "[Parallel(n_jobs=-1)]: Done  40 out of  40 | elapsed:   10.7s finished\n",
      "{'max_depth': 5, 'min_samples_split': 2, 'n_estimators': 20}\n",
      "-0.6408014325728745\n"
     ]
    }
   ],
   "source": [
    "## Grid Search\n",
    "\n",
    "\n",
    "params = {'n_estimators':[10,20], 'max_depth':[None, 5], 'min_samples_split':[2,3]}\n",
    "rf_reg_AD = RandomForestRegressor(random_state=0)\n",
    "reg_grid_AD = GridSearchCV(rf_reg_AD, params, cv=5, n_jobs=-1, verbose=1)\n",
    "reg_grid_AD.fit(X, Y)\n",
    "print(reg_grid_AD.best_params_)\n",
    "print(reg_grid_AD.best_score_)"
   ]
  },
  {
   "cell_type": "code",
   "execution_count": 25,
   "metadata": {},
   "outputs": [
    {
     "output_type": "execute_result",
     "data": {
      "text/plain": [
       "     ArrivalDelay_DT  ArrivalDelay_RF\n",
       "0                2.0             9.66\n",
       "1               19.0            13.97\n",
       "2               29.0            16.81\n",
       "3               16.0             8.17\n",
       "4                4.0             3.54\n",
       "..               ...              ...\n",
       "658             76.0            69.62\n",
       "659             76.0            71.79\n",
       "660             76.0            70.12\n",
       "661             67.0            68.13\n",
       "662             65.0            66.76\n",
       "\n",
       "[663 rows x 2 columns]"
      ],
      "text/html": "<div>\n<style scoped>\n    .dataframe tbody tr th:only-of-type {\n        vertical-align: middle;\n    }\n\n    .dataframe tbody tr th {\n        vertical-align: top;\n    }\n\n    .dataframe thead th {\n        text-align: right;\n    }\n</style>\n<table border=\"1\" class=\"dataframe\">\n  <thead>\n    <tr style=\"text-align: right;\">\n      <th></th>\n      <th>ArrivalDelay_DT</th>\n      <th>ArrivalDelay_RF</th>\n    </tr>\n  </thead>\n  <tbody>\n    <tr>\n      <th>0</th>\n      <td>2.0</td>\n      <td>9.66</td>\n    </tr>\n    <tr>\n      <th>1</th>\n      <td>19.0</td>\n      <td>13.97</td>\n    </tr>\n    <tr>\n      <th>2</th>\n      <td>29.0</td>\n      <td>16.81</td>\n    </tr>\n    <tr>\n      <th>3</th>\n      <td>16.0</td>\n      <td>8.17</td>\n    </tr>\n    <tr>\n      <th>4</th>\n      <td>4.0</td>\n      <td>3.54</td>\n    </tr>\n    <tr>\n      <th>...</th>\n      <td>...</td>\n      <td>...</td>\n    </tr>\n    <tr>\n      <th>658</th>\n      <td>76.0</td>\n      <td>69.62</td>\n    </tr>\n    <tr>\n      <th>659</th>\n      <td>76.0</td>\n      <td>71.79</td>\n    </tr>\n    <tr>\n      <th>660</th>\n      <td>76.0</td>\n      <td>70.12</td>\n    </tr>\n    <tr>\n      <th>661</th>\n      <td>67.0</td>\n      <td>68.13</td>\n    </tr>\n    <tr>\n      <th>662</th>\n      <td>65.0</td>\n      <td>66.76</td>\n    </tr>\n  </tbody>\n</table>\n<p>663 rows × 2 columns</p>\n</div>"
     },
     "metadata": {},
     "execution_count": 25
    }
   ],
   "source": [
    "## For actual Data\n",
    "\n",
    "rf_reg_AD.fit(X, Y)\n",
    "preds['ArrivalDelay_RF'] = rf_reg_AD.predict(test)\n",
    "preds"
   ]
  },
  {
   "source": [
    "## 6.2 Model `DepartureDelay`"
   ],
   "cell_type": "markdown",
   "metadata": {}
  },
  {
   "cell_type": "code",
   "execution_count": 26,
   "metadata": {},
   "outputs": [
    {
     "output_type": "stream",
     "name": "stdout",
     "text": [
      "(31775, 14) (31775,) (31775, 16) (663, 14)\n"
     ]
    }
   ],
   "source": [
    "# Get the Dependent and Independent Features.\n",
    "##  Model DD\n",
    "\n",
    "X = train.drop(['ArrivalDelay', 'DepartureDelay'], axis=1)\n",
    "Y = train['DepartureDelay']\n",
    "print(X.shape, Y.shape, train.shape, test.shape)"
   ]
  },
  {
   "cell_type": "code",
   "execution_count": 27,
   "metadata": {},
   "outputs": [
    {
     "output_type": "execute_result",
     "data": {
      "text/plain": [
       "DecisionTreeRegressor(random_state=0)"
      ]
     },
     "metadata": {},
     "execution_count": 27
    }
   ],
   "source": [
    "## 6.2.1 DecisionTreeRegressor\n",
    "\n",
    "X_train, X_test, Y_train, Y_test = train_test_split(X, Y, test_size=0.20, random_state=0)\n",
    "\n",
    "dt_reg_DD = DecisionTreeRegressor(random_state=0)\n",
    "dt_reg_DD.fit(X_train, Y_train)\n"
   ]
  },
  {
   "cell_type": "code",
   "execution_count": 28,
   "metadata": {},
   "outputs": [
    {
     "output_type": "stream",
     "name": "stdout",
     "text": [
      "Feature Importance:\n\ntrainCode -- 0.23\ntrainStationId -- 0.22\ndistance -- 0.16\ndayCount -- 0.12\nrunDate_month -- 0.12\nrunDate_date -- 0.03\nsA_month -- 0.03\nsA_day -- 0.03\nsA_minute -- 0.03\nsA_hour -- 0.02\nsD_month -- 0.01\nsD_day -- 0.01\nsD_hour -- 0.01\nsD_minute -- 0.00\n"
     ]
    }
   ],
   "source": [
    "print(\"Feature Importance:\\n\")\n",
    "for name, importance in zip(X.columns, np.sort(dt_reg_DD.feature_importances_)[::-1]):\n",
    "    print(\"{} -- {:.2f}\".format(name, importance))\n",
    "\n",
    "\n",
    "dt_reg_DD.score(X_test, Y_test)\n",
    "y_pred_dt_DD = dt_reg_DD.predict(X_test)"
   ]
  },
  {
   "cell_type": "code",
   "execution_count": 29,
   "metadata": {},
   "outputs": [],
   "source": [
    "## For actual Data\n",
    "\n",
    "dt_reg_DD.fit(X, Y)\n",
    "preds['DepartureDelay_DT'] = dt_reg_DD.predict(test)"
   ]
  },
  {
   "cell_type": "code",
   "execution_count": 30,
   "metadata": {},
   "outputs": [
    {
     "output_type": "stream",
     "name": "stdout",
     "text": [
      "Feature Importance:\n\ntrainCode -- 0.36\ntrainStationId -- 0.35\ndistance -- 0.07\ndayCount -- 0.05\nrunDate_month -- 0.04\nrunDate_date -- 0.04\nsA_month -- 0.03\nsA_day -- 0.02\nsA_minute -- 0.02\nsA_hour -- 0.01\nsD_month -- 0.00\nsD_day -- 0.00\nsD_hour -- 0.00\nsD_minute -- 0.00\n"
     ]
    },
    {
     "output_type": "execute_result",
     "data": {
      "text/plain": [
       "0.2924207970153211"
      ]
     },
     "metadata": {},
     "execution_count": 30
    }
   ],
   "source": [
    "## 6.2.2 RandomForestRegressor\n",
    "\n",
    "rf_reg_DD = RandomForestRegressor(random_state=0, max_depth = 5, min_samples_split= 2, n_estimators= 20)\n",
    "rf_reg_DD.fit(X_train, Y_train)\n",
    "\n",
    "print(\"Feature Importance:\\n\")\n",
    "for name, importance in zip(X.columns, np.sort(rf_reg_DD.feature_importances_)[::-1]):\n",
    "    print(\"{} -- {:.2f}\".format(name, importance))\n",
    "\n",
    "\n",
    "rf_reg_DD.score(X_test, Y_test)"
   ]
  },
  {
   "cell_type": "code",
   "execution_count": 31,
   "metadata": {},
   "outputs": [],
   "source": [
    "y_pred_rf_DD = rf_reg_DD.predict(X_test)"
   ]
  },
  {
   "source": [
    "### Grid Search for Model DD"
   ],
   "cell_type": "markdown",
   "metadata": {}
  },
  {
   "cell_type": "code",
   "execution_count": 32,
   "metadata": {},
   "outputs": [
    {
     "output_type": "stream",
     "name": "stdout",
     "text": [
      "Fitting 5 folds for each of 8 candidates, totalling 40 fits\n",
      "[Parallel(n_jobs=-1)]: Using backend LokyBackend with 8 concurrent workers.\n",
      "[Parallel(n_jobs=-1)]: Done  40 out of  40 | elapsed:    8.9s finished\n",
      "{'max_depth': 5, 'min_samples_split': 2, 'n_estimators': 20}\n",
      "-0.6289715615423939\n"
     ]
    }
   ],
   "source": [
    "params = {'n_estimators':[10,20], 'max_depth':[None, 5], 'min_samples_split':[2,3]}\n",
    "rf_reg_DD = RandomForestRegressor(random_state=0)\n",
    "reg_grid_DD = GridSearchCV(rf_reg_DD, params, cv=5, n_jobs=-1, verbose=1)\n",
    "reg_grid_DD.fit(X, Y)\n",
    "print(reg_grid_DD.best_params_)\n",
    "print(reg_grid_DD.best_score_)"
   ]
  },
  {
   "cell_type": "code",
   "execution_count": 33,
   "metadata": {},
   "outputs": [],
   "source": [
    "## For actual Data\n",
    "\n",
    "rf_reg_DD.fit(X, Y)\n",
    "preds['DepartureDelay_RF'] = rf_reg_DD.predict(test)"
   ]
  },
  {
   "cell_type": "code",
   "execution_count": 34,
   "metadata": {},
   "outputs": [
    {
     "output_type": "execute_result",
     "data": {
      "text/plain": [
       "     ArrivalDelay_DT  ArrivalDelay_RF  DepartureDelay_DT  DepartureDelay_RF\n",
       "0                2.0             9.66                9.0               9.92\n",
       "1               19.0            13.97               21.0              14.73\n",
       "2               29.0            16.81                1.0              11.66\n",
       "3               16.0             8.17                1.0              11.05\n",
       "4                4.0             3.54                1.0               5.03\n",
       "..               ...              ...                ...                ...\n",
       "658             76.0            69.62               72.0              70.34\n",
       "659             76.0            71.79               76.0              73.43\n",
       "660             76.0            70.12               76.0              72.51\n",
       "661             67.0            68.13               68.0              70.32\n",
       "662             65.0            66.76               65.0              68.32\n",
       "\n",
       "[663 rows x 4 columns]"
      ],
      "text/html": "<div>\n<style scoped>\n    .dataframe tbody tr th:only-of-type {\n        vertical-align: middle;\n    }\n\n    .dataframe tbody tr th {\n        vertical-align: top;\n    }\n\n    .dataframe thead th {\n        text-align: right;\n    }\n</style>\n<table border=\"1\" class=\"dataframe\">\n  <thead>\n    <tr style=\"text-align: right;\">\n      <th></th>\n      <th>ArrivalDelay_DT</th>\n      <th>ArrivalDelay_RF</th>\n      <th>DepartureDelay_DT</th>\n      <th>DepartureDelay_RF</th>\n    </tr>\n  </thead>\n  <tbody>\n    <tr>\n      <th>0</th>\n      <td>2.0</td>\n      <td>9.66</td>\n      <td>9.0</td>\n      <td>9.92</td>\n    </tr>\n    <tr>\n      <th>1</th>\n      <td>19.0</td>\n      <td>13.97</td>\n      <td>21.0</td>\n      <td>14.73</td>\n    </tr>\n    <tr>\n      <th>2</th>\n      <td>29.0</td>\n      <td>16.81</td>\n      <td>1.0</td>\n      <td>11.66</td>\n    </tr>\n    <tr>\n      <th>3</th>\n      <td>16.0</td>\n      <td>8.17</td>\n      <td>1.0</td>\n      <td>11.05</td>\n    </tr>\n    <tr>\n      <th>4</th>\n      <td>4.0</td>\n      <td>3.54</td>\n      <td>1.0</td>\n      <td>5.03</td>\n    </tr>\n    <tr>\n      <th>...</th>\n      <td>...</td>\n      <td>...</td>\n      <td>...</td>\n      <td>...</td>\n    </tr>\n    <tr>\n      <th>658</th>\n      <td>76.0</td>\n      <td>69.62</td>\n      <td>72.0</td>\n      <td>70.34</td>\n    </tr>\n    <tr>\n      <th>659</th>\n      <td>76.0</td>\n      <td>71.79</td>\n      <td>76.0</td>\n      <td>73.43</td>\n    </tr>\n    <tr>\n      <th>660</th>\n      <td>76.0</td>\n      <td>70.12</td>\n      <td>76.0</td>\n      <td>72.51</td>\n    </tr>\n    <tr>\n      <th>661</th>\n      <td>67.0</td>\n      <td>68.13</td>\n      <td>68.0</td>\n      <td>70.32</td>\n    </tr>\n    <tr>\n      <th>662</th>\n      <td>65.0</td>\n      <td>66.76</td>\n      <td>65.0</td>\n      <td>68.32</td>\n    </tr>\n  </tbody>\n</table>\n<p>663 rows × 4 columns</p>\n</div>"
     },
     "metadata": {},
     "execution_count": 34
    }
   ],
   "source": [
    "preds"
   ]
  },
  {
   "cell_type": "code",
   "execution_count": 38,
   "metadata": {},
   "outputs": [],
   "source": [
    "test = test.append(preds)\n",
    "test.to_csv('Anoushkrit_Goel_Solution.csv')"
   ]
  },
  {
   "cell_type": "code",
   "execution_count": null,
   "metadata": {},
   "outputs": [],
   "source": []
  }
 ]
}